{
 "cells": [
  {
   "cell_type": "code",
   "execution_count": null,
   "metadata": {},
   "outputs": [],
   "source": [
    "!pip3 install pandas"
   ]
  },
  {
   "cell_type": "code",
   "execution_count": null,
   "metadata": {},
   "outputs": [],
   "source": [
    "import pandas as pd\n",
    "import tkinter"
   ]
  },
  {
   "cell_type": "code",
   "execution_count": null,
   "metadata": {},
   "outputs": [],
   "source": []
  },
  {
   "cell_type": "code",
   "execution_count": null,
   "metadata": {},
   "outputs": [],
   "source": [
    "fileName = \"test.xlsx\"\n",
    "sheetName = \"CIS Reading\"\n",
    "\n",
    "#A:E or “A,C,E:F\"\n",
    "colsToUse = \"A,C:P\"\n",
    "\n",
    "#startRow is zero indexed hence the '-1'\n",
    "startRow = 3\n",
    "startRow = startRow - 1\n",
    "\n",
    "#dtype\n",
    "#true_values\n",
    "#false_values\n",
    "#na_values\n",
    "\n",
    "df = pd.read_excel(open(fileName, 'rb'), sheet_name=sheetName, header=startRow, usecols=colsToUse)\n",
    "\n",
    "#if endCol and endRow not provided\n",
    "endCol = df.shape[1]\n",
    "endRow = df.shape[0]"
   ]
  },
  {
   "cell_type": "code",
   "execution_count": null,
   "metadata": {},
   "outputs": [],
   "source": [
    "# df = df.iloc[startRow:endRow,startcol:endCol]"
   ]
  },
  {
   "cell_type": "code",
   "execution_count": null,
   "metadata": {},
   "outputs": [],
   "source": [
    "#Removing empty rows, cols\n",
    "df.dropna(how='all', inplace=True)\n",
    "df.dropna(axis=1, how='all', inplace=True)"
   ]
  },
  {
   "cell_type": "code",
   "execution_count": null,
   "metadata": {},
   "outputs": [],
   "source": [
    "print(df)"
   ]
  },
  {
   "cell_type": "code",
   "execution_count": null,
   "metadata": {},
   "outputs": [],
   "source": []
  },
  {
   "cell_type": "code",
   "execution_count": null,
   "metadata": {},
   "outputs": [],
   "source": []
  },
  {
   "cell_type": "code",
   "execution_count": null,
   "metadata": {},
   "outputs": [],
   "source": [
    "# wb = xlrd.open_workbook(fileName) \n",
    "# sheet = wb.sheet_by_name(sheetName) \n",
    "\n",
    "\n",
    "# #Get the start row and col as input\n",
    "# startcol = 0\n",
    "# endCol = 0\n",
    "# startRow = 0\n",
    "# endRow = 0\n",
    "\n",
    "# # selectionThreshold = 5"
   ]
  },
  {
   "cell_type": "code",
   "execution_count": null,
   "metadata": {},
   "outputs": [],
   "source": [
    "# startPositions = []\n",
    "# endPositions = []\n",
    "\n",
    "# emptyCols = []\n",
    "\n",
    "# isEmpty = {}\n",
    "        \n",
    "\n",
    "# for row in range(0, sheet.nrows):\n",
    "#     i = 0 \n",
    "#     j = sheet.ncols - 1\n",
    "    \n",
    "#     while i < sheet.ncols and (str(sheet.cell_value(row, i)).strip() == \"\" or str(sheet.cell_value(row, i)).strip() == None):\n",
    "#         i = i + 1\n",
    "\n",
    "#     if i == sheet.ncols:\n",
    "#         isEmpty[row] = True\n",
    "#         continue\n",
    "    \n",
    "#     startPositions.append(i)\n",
    "    \n",
    "#     while j > i and (str(sheet.cell_value(row, j)).strip() == \"\" or str(sheet.cell_value(row, j)).strip() == None):\n",
    "#         j = j - 1\n",
    "    \n",
    "#     endPositions.append(j)"
   ]
  },
  {
   "cell_type": "code",
   "execution_count": null,
   "metadata": {},
   "outputs": [],
   "source": [
    "# for col in range(0, sheet.ncols):\n",
    "#     isColEmpty = True\n",
    "#     for row in range(0, sheet.nrows):\n",
    "#         if str(sheet.cell_value(row, col)).strip() != \"\" or str(sheet.cell_value(row, col)).strip() != None:\n",
    "#             isColEmpty = False\n",
    "#             break\n",
    "#     if isColEmpty:\n",
    "#         emptyCols.append(col)\n",
    "\n",
    "# print(emptyCols)"
   ]
  },
  {
   "cell_type": "code",
   "execution_count": 2,
   "metadata": {},
   "outputs": [
    {
     "name": "stdout",
     "output_type": "stream",
     "text": [
      "Excel location\n",
      "Output CSV name\n",
      "Sheet name\n",
      "Header row\n",
      "Columns to include\n"
     ]
    }
   ],
   "source": [
    "import tkinter as tk\n",
    "\n",
    "fields = ('Excel location', 'Output CSV name', 'Sheet name', 'Header row', 'Columns to include')\n",
    "\n",
    "def convert(entries):\n",
    "    r = (float(entries['Annual Rate'].get()) / 100) / 12\n",
    "    print(\"Success\")\n",
    "\n",
    "def makeform(root, fields):\n",
    "    entries = {}\n",
    "    for field in fields:\n",
    "        print(field)\n",
    "        row = tk.Frame(root)\n",
    "        lab = tk.Label(row, width=22, text=field+\": \", anchor='w')\n",
    "        ent = tk.Entry(row)\n",
    "        ent.insert(0, \"0\")\n",
    "        row.pack(side=tk.TOP, \n",
    "                 fill=tk.X, \n",
    "                 padx=5, \n",
    "                 pady=5)\n",
    "        lab.pack(side=tk.LEFT)\n",
    "        ent.pack(side=tk.RIGHT, \n",
    "                 expand=tk.YES, \n",
    "                 fill=tk.X)\n",
    "        entries[field] = ent\n",
    "    return entries\n",
    "\n",
    "if __name__ == '__main__':\n",
    "    root = tk.Tk()\n",
    "    ents = makeform(root, fields)\n",
    "    b1 = tk.Button(root, text='Convert',\n",
    "           command=convert)\n",
    "    b1.pack(side=tk.LEFT, padx=5, pady=5)\n",
    "    b3 = tk.Button(root, text='Quit', command=root.quit)\n",
    "    b3.pack(side=tk.LEFT, padx=5, pady=5)\n",
    "    root.mainloop()"
   ]
  },
  {
   "cell_type": "code",
   "execution_count": null,
   "metadata": {},
   "outputs": [],
   "source": []
  },
  {
   "cell_type": "code",
   "execution_count": null,
   "metadata": {},
   "outputs": [],
   "source": []
  },
  {
   "cell_type": "code",
   "execution_count": null,
   "metadata": {},
   "outputs": [],
   "source": []
  }
 ],
 "metadata": {
  "kernelspec": {
   "display_name": "Python 3",
   "language": "python",
   "name": "python3"
  },
  "language_info": {
   "codemirror_mode": {
    "name": "ipython",
    "version": 3
   },
   "file_extension": ".py",
   "mimetype": "text/x-python",
   "name": "python",
   "nbconvert_exporter": "python",
   "pygments_lexer": "ipython3",
   "version": "3.7.4"
  }
 },
 "nbformat": 4,
 "nbformat_minor": 2
}
